{
  "nbformat": 4,
  "nbformat_minor": 0,
  "metadata": {
    "colab": {
      "provenance": []
    },
    "kernelspec": {
      "name": "python3",
      "display_name": "Python 3"
    },
    "language_info": {
      "name": "python"
    }
  },
  "cells": [
    {
      "cell_type": "code",
      "execution_count": 49,
      "metadata": {
        "id": "ujXUtTvbYVhf"
      },
      "outputs": [],
      "source": [
        "import pandas as pd\n"
      ]
    },
    {
      "cell_type": "code",
      "source": [
        "from google.colab import drive\n",
        "drive.mount('/content/drive')"
      ],
      "metadata": {
        "colab": {
          "base_uri": "https://localhost:8080/"
        },
        "id": "zQx2QruXYirP",
        "outputId": "4fb665c6-aeb4-4518-fdbf-7b7bef63e7b8"
      },
      "execution_count": 50,
      "outputs": [
        {
          "output_type": "stream",
          "name": "stdout",
          "text": [
            "Drive already mounted at /content/drive; to attempt to forcibly remount, call drive.mount(\"/content/drive\", force_remount=True).\n"
          ]
        }
      ]
    },
    {
      "cell_type": "code",
      "source": [
        "#cola nos parenteses o conteúdo de \"copiar caminho\"\n",
        "df = pd.read_csv(\"/content/drive/MyDrive/IIC - COVID dataset/Covid Data.csv\")"
      ],
      "metadata": {
        "id": "kZ_0t3oZYkBR"
      },
      "execution_count": 51,
      "outputs": []
    },
    {
      "cell_type": "code",
      "source": [
        "df.info()"
      ],
      "metadata": {
        "colab": {
          "base_uri": "https://localhost:8080/"
        },
        "id": "XQ8AOs6QZEtQ",
        "outputId": "ab766859-5b46-4065-cbc6-ed888593a6c8"
      },
      "execution_count": 52,
      "outputs": [
        {
          "output_type": "stream",
          "name": "stdout",
          "text": [
            "<class 'pandas.core.frame.DataFrame'>\n",
            "RangeIndex: 1048575 entries, 0 to 1048574\n",
            "Data columns (total 21 columns):\n",
            " #   Column                Non-Null Count    Dtype \n",
            "---  ------                --------------    ----- \n",
            " 0   USMER                 1048575 non-null  int64 \n",
            " 1   MEDICAL_UNIT          1048575 non-null  int64 \n",
            " 2   SEX                   1048575 non-null  int64 \n",
            " 3   PATIENT_TYPE          1048575 non-null  int64 \n",
            " 4   DATE_DIED             1048575 non-null  object\n",
            " 5   INTUBED               1048575 non-null  int64 \n",
            " 6   PNEUMONIA             1048575 non-null  int64 \n",
            " 7   AGE                   1048575 non-null  int64 \n",
            " 8   PREGNANT              1048575 non-null  int64 \n",
            " 9   DIABETES              1048575 non-null  int64 \n",
            " 10  COPD                  1048575 non-null  int64 \n",
            " 11  ASTHMA                1048575 non-null  int64 \n",
            " 12  INMSUPR               1048575 non-null  int64 \n",
            " 13  HIPERTENSION          1048575 non-null  int64 \n",
            " 14  OTHER_DISEASE         1048575 non-null  int64 \n",
            " 15  CARDIOVASCULAR        1048575 non-null  int64 \n",
            " 16  OBESITY               1048575 non-null  int64 \n",
            " 17  RENAL_CHRONIC         1048575 non-null  int64 \n",
            " 18  TOBACCO               1048575 non-null  int64 \n",
            " 19  CLASIFFICATION_FINAL  1048575 non-null  int64 \n",
            " 20  ICU                   1048575 non-null  int64 \n",
            "dtypes: int64(20), object(1)\n",
            "memory usage: 168.0+ MB\n"
          ]
        }
      ]
    },
    {
      "cell_type": "markdown",
      "source": [
        "## Column Definitions\n",
        "\n",
        "\n",
        "\n",
        "*   USMER : This indicates whether the patient treated medical units of the first, second or third level\n",
        "* MEDICAL_UNIT : The type of institution of the Natinal Health System that provided the care.\n",
        "* SEX : 1-\"Female\", 2-\"male\".\n",
        "* PATIENT_TYPE : The type of care the patient received in the unit. 1-\"returned home\", 2-\"hospitalization\". 97 and 99 are missing data.\n",
        "* DATE_DIED : Indicated date of death means that the patient died, except for 9999-99-99 which means that the patient survived..\n",
        "* INTUBED : Wether the patient was connected to a ventilator. 1-\"yes\", 2-\"no\"\n",
        "* PNEUMONIA : Whether the patient already have air sacs inflamation or not.1-\"yes\", 2-\"no\", while 97 and 99 are missing data.\n",
        "* AGE: The patient's age.\n",
        "* PREGNANT: Whether the patient is pregnant or not.1-\"yes\", 2-\"no\", while 97 and 99 are missing data.\n",
        "* DIABETES : Whether the patient has diabetes or not.\n",
        "* COPD : Whether the patient has chronic obstructive pulmonary disease or not.\n",
        "* ASTHMA : Whether the patient has asthma or not.\n",
        "* INMSUPR : Whether the patient is immunosuppressed or not.\n",
        "* HYPERTENSION : Whether the patient has hypertension or not.\n",
        "* OTHER DISEASE : Whether the patient has other disease or not.\n",
        "* CARDIOVASCULAR : Whether the patient has patient has heart or blood vessels related diseases.\n",
        "* OBESITY : Whether the patient is obessed or not.\n",
        "* RENAL CHRONIC : Whether the patient has chronic renal disease or not.\n",
        "* TOBACCO : Whether the patient is a tobacco user or not.\n",
        "* CLASIFFICATION_FINAL : Covid test findings. Values 1-3 means that the patient was diagnosed with covid in different degrees. 4 or higher means that the patient is not a carrier of covid or that the test is inconclusive.\n",
        "* ICU : Whether the patient has been admitted into the intensive care unit.\n",
        "\n",
        "\n"
      ],
      "metadata": {
        "id": "N5SipwlxcAky"
      }
    },
    {
      "cell_type": "code",
      "source": [
        "df.columns\n"
      ],
      "metadata": {
        "id": "jvuCylk1ZNQi",
        "colab": {
          "base_uri": "https://localhost:8080/"
        },
        "outputId": "c1e68b15-5dc0-4284-8a73-8920c8a9994d"
      },
      "execution_count": 53,
      "outputs": [
        {
          "output_type": "execute_result",
          "data": {
            "text/plain": [
              "Index(['USMER', 'MEDICAL_UNIT', 'SEX', 'PATIENT_TYPE', 'DATE_DIED', 'INTUBED',\n",
              "       'PNEUMONIA', 'AGE', 'PREGNANT', 'DIABETES', 'COPD', 'ASTHMA', 'INMSUPR',\n",
              "       'HIPERTENSION', 'OTHER_DISEASE', 'CARDIOVASCULAR', 'OBESITY',\n",
              "       'RENAL_CHRONIC', 'TOBACCO', 'CLASIFFICATION_FINAL', 'ICU'],\n",
              "      dtype='object')"
            ]
          },
          "metadata": {},
          "execution_count": 53
        }
      ]
    },
    {
      "cell_type": "markdown",
      "source": [
        "# Pre-Processamento"
      ],
      "metadata": {
        "id": "7aGC1i9fUN3w"
      }
    },
    {
      "cell_type": "markdown",
      "source": [
        "## Excluindo as colunas \"INTUBED\", \"PREGNANT\" e \"ICU\" porque os dados nessas colunas têm muito valor ausente\n"
      ],
      "metadata": {
        "id": "6xC35yBPdZPw"
      }
    },
    {
      "cell_type": "code",
      "source": [
        "df.drop(columns=[\"USMER\",\"INTUBED\", \"PREGNANT\",\"ICU\", \"PATIENT_TYPE\", \"INMSUPR\", \"MEDICAL_UNIT\"], inplace=True)\n",
        "df.info()"
      ],
      "metadata": {
        "colab": {
          "base_uri": "https://localhost:8080/"
        },
        "id": "j4IlkuHYOxSS",
        "outputId": "ea5c3635-0446-40d1-aebf-6e6d8c1152e2"
      },
      "execution_count": 54,
      "outputs": [
        {
          "output_type": "stream",
          "name": "stdout",
          "text": [
            "<class 'pandas.core.frame.DataFrame'>\n",
            "RangeIndex: 1048575 entries, 0 to 1048574\n",
            "Data columns (total 14 columns):\n",
            " #   Column                Non-Null Count    Dtype \n",
            "---  ------                --------------    ----- \n",
            " 0   SEX                   1048575 non-null  int64 \n",
            " 1   DATE_DIED             1048575 non-null  object\n",
            " 2   PNEUMONIA             1048575 non-null  int64 \n",
            " 3   AGE                   1048575 non-null  int64 \n",
            " 4   DIABETES              1048575 non-null  int64 \n",
            " 5   COPD                  1048575 non-null  int64 \n",
            " 6   ASTHMA                1048575 non-null  int64 \n",
            " 7   HIPERTENSION          1048575 non-null  int64 \n",
            " 8   OTHER_DISEASE         1048575 non-null  int64 \n",
            " 9   CARDIOVASCULAR        1048575 non-null  int64 \n",
            " 10  OBESITY               1048575 non-null  int64 \n",
            " 11  RENAL_CHRONIC         1048575 non-null  int64 \n",
            " 12  TOBACCO               1048575 non-null  int64 \n",
            " 13  CLASIFFICATION_FINAL  1048575 non-null  int64 \n",
            "dtypes: int64(13), object(1)\n",
            "memory usage: 112.0+ MB\n"
          ]
        }
      ]
    },
    {
      "cell_type": "markdown",
      "source": [
        "## Removendo linhas com valores 97 ,98 e 99. Pois indicam a falta de dados"
      ],
      "metadata": {
        "id": "YBqD61yddeBt"
      }
    },
    {
      "cell_type": "code",
      "source": [
        "# Define a lista de valores que deseja buscar\n",
        "valores = ['97', '98', '99']\n",
        "\n",
        "# Verifica em todas as colunas se há pelo menos um elemento igual a qualquer um dos valores\n",
        "mascara = df.apply(lambda coluna: coluna.isin(valores).any(), axis=0)\n",
        "\n",
        "# Seleciona as linhas que atendem a essa condição\n",
        "df = df.loc[~df.loc[:,mascara].isin(valores).any(axis=1)]"
      ],
      "metadata": {
        "id": "CTaT-dtRdXhJ"
      },
      "execution_count": 55,
      "outputs": []
    },
    {
      "cell_type": "markdown",
      "source": [
        "## Substituindo dados\n",
        "Substitundo os dados 9999-99-99 por 2 que indica que o paciente está vivo, enquanto os dados da data de morte serão alterados para 1 que indica que o paciente morreu.\n"
      ],
      "metadata": {
        "id": "NZS1UTHNd9sI"
      }
    },
    {
      "cell_type": "code",
      "source": [
        "df.DATE_DIED.value_counts()\n"
      ],
      "metadata": {
        "id": "ucAf0ZR0eAdQ",
        "colab": {
          "base_uri": "https://localhost:8080/"
        },
        "outputId": "636fd490-20b5-49bf-b6eb-4a33c6fae4a5"
      },
      "execution_count": 56,
      "outputs": [
        {
          "output_type": "execute_result",
          "data": {
            "text/plain": [
              "9999-99-99    971633\n",
              "06/07/2020      1000\n",
              "07/07/2020       996\n",
              "13/07/2020       990\n",
              "16/06/2020       979\n",
              "               ...  \n",
              "24/11/2020         1\n",
              "17/12/2020         1\n",
              "08/12/2020         1\n",
              "16/03/2021         1\n",
              "22/04/2021         1\n",
              "Name: DATE_DIED, Length: 401, dtype: int64"
            ]
          },
          "metadata": {},
          "execution_count": 56
        }
      ]
    },
    {
      "cell_type": "code",
      "source": [
        "df[\"DEATH\"] = [2 if row=='9999-99-99' else 1 for row in df[\"DATE_DIED\"]]\n",
        "df[\"DEATH\"].value_counts()"
      ],
      "metadata": {
        "colab": {
          "base_uri": "https://localhost:8080/"
        },
        "id": "Bc4GaOyFemJn",
        "outputId": "6b61b81b-3e3d-40c1-ca25-b79c10ceff62"
      },
      "execution_count": 57,
      "outputs": [
        {
          "output_type": "execute_result",
          "data": {
            "text/plain": [
              "2    971633\n",
              "1     76942\n",
              "Name: DEATH, dtype: int64"
            ]
          },
          "metadata": {},
          "execution_count": 57
        }
      ]
    },
    {
      "cell_type": "code",
      "source": [
        "df.drop(\"DATE_DIED\", axis=1, inplace=True)\n"
      ],
      "metadata": {
        "id": "OETeQVKjT4sZ"
      },
      "execution_count": 58,
      "outputs": []
    },
    {
      "cell_type": "markdown",
      "source": [
        "## Transformando coluna clasiffication_final\n",
        "\n",
        "São os dados da pessoa se tem COVID positivo ou negativo. \n",
        "Até 3 POSITIVO\n",
        "Acima de 3 NEGATIVO ou INCONCLUSIVO\n",
        "\n",
        "Transformando dados para 1 positivo e 2 negativo"
      ],
      "metadata": {
        "id": "NPlCA7FchPb4"
      }
    },
    {
      "cell_type": "code",
      "source": [
        "# Define a função que realiza a transformação\n",
        "def transforma_valor(valor):\n",
        "    if valor >= 1 and valor <= 3:\n",
        "        return 1\n",
        "    else:\n",
        "        return 2\n",
        "\n",
        "# Aplica a função à coluna desejada\n",
        "df['CLASIFFICATION_FINAL'] = df['CLASIFFICATION_FINAL'].apply(transforma_valor)"
      ],
      "metadata": {
        "id": "kp8_0wAVhQAB"
      },
      "execution_count": 59,
      "outputs": []
    },
    {
      "cell_type": "code",
      "source": [
        "df.head()"
      ],
      "metadata": {
        "colab": {
          "base_uri": "https://localhost:8080/",
          "height": 250
        },
        "id": "aRw-_MNChvAg",
        "outputId": "6045d266-176f-4fae-da37-cd6ca7655922"
      },
      "execution_count": 60,
      "outputs": [
        {
          "output_type": "execute_result",
          "data": {
            "text/plain": [
              "   SEX  PNEUMONIA  AGE  DIABETES  COPD  ASTHMA  HIPERTENSION  OTHER_DISEASE  \\\n",
              "0    1          1   65         2     2       2             1              2   \n",
              "1    2          1   72         2     2       2             1              2   \n",
              "2    2          2   55         1     2       2             2              2   \n",
              "3    1          2   53         2     2       2             2              2   \n",
              "4    2          2   68         1     2       2             1              2   \n",
              "\n",
              "   CARDIOVASCULAR  OBESITY  RENAL_CHRONIC  TOBACCO  CLASIFFICATION_FINAL  \\\n",
              "0               2        2              2        2                     1   \n",
              "1               2        1              1        2                     2   \n",
              "2               2        2              2        2                     1   \n",
              "3               2        2              2        2                     2   \n",
              "4               2        2              2        2                     1   \n",
              "\n",
              "   DEATH  \n",
              "0      1  \n",
              "1      1  \n",
              "2      1  \n",
              "3      1  \n",
              "4      1  "
            ],
            "text/html": [
              "\n",
              "  <div id=\"df-a50605f5-1fa7-436d-98c3-507621f6732c\">\n",
              "    <div class=\"colab-df-container\">\n",
              "      <div>\n",
              "<style scoped>\n",
              "    .dataframe tbody tr th:only-of-type {\n",
              "        vertical-align: middle;\n",
              "    }\n",
              "\n",
              "    .dataframe tbody tr th {\n",
              "        vertical-align: top;\n",
              "    }\n",
              "\n",
              "    .dataframe thead th {\n",
              "        text-align: right;\n",
              "    }\n",
              "</style>\n",
              "<table border=\"1\" class=\"dataframe\">\n",
              "  <thead>\n",
              "    <tr style=\"text-align: right;\">\n",
              "      <th></th>\n",
              "      <th>SEX</th>\n",
              "      <th>PNEUMONIA</th>\n",
              "      <th>AGE</th>\n",
              "      <th>DIABETES</th>\n",
              "      <th>COPD</th>\n",
              "      <th>ASTHMA</th>\n",
              "      <th>HIPERTENSION</th>\n",
              "      <th>OTHER_DISEASE</th>\n",
              "      <th>CARDIOVASCULAR</th>\n",
              "      <th>OBESITY</th>\n",
              "      <th>RENAL_CHRONIC</th>\n",
              "      <th>TOBACCO</th>\n",
              "      <th>CLASIFFICATION_FINAL</th>\n",
              "      <th>DEATH</th>\n",
              "    </tr>\n",
              "  </thead>\n",
              "  <tbody>\n",
              "    <tr>\n",
              "      <th>0</th>\n",
              "      <td>1</td>\n",
              "      <td>1</td>\n",
              "      <td>65</td>\n",
              "      <td>2</td>\n",
              "      <td>2</td>\n",
              "      <td>2</td>\n",
              "      <td>1</td>\n",
              "      <td>2</td>\n",
              "      <td>2</td>\n",
              "      <td>2</td>\n",
              "      <td>2</td>\n",
              "      <td>2</td>\n",
              "      <td>1</td>\n",
              "      <td>1</td>\n",
              "    </tr>\n",
              "    <tr>\n",
              "      <th>1</th>\n",
              "      <td>2</td>\n",
              "      <td>1</td>\n",
              "      <td>72</td>\n",
              "      <td>2</td>\n",
              "      <td>2</td>\n",
              "      <td>2</td>\n",
              "      <td>1</td>\n",
              "      <td>2</td>\n",
              "      <td>2</td>\n",
              "      <td>1</td>\n",
              "      <td>1</td>\n",
              "      <td>2</td>\n",
              "      <td>2</td>\n",
              "      <td>1</td>\n",
              "    </tr>\n",
              "    <tr>\n",
              "      <th>2</th>\n",
              "      <td>2</td>\n",
              "      <td>2</td>\n",
              "      <td>55</td>\n",
              "      <td>1</td>\n",
              "      <td>2</td>\n",
              "      <td>2</td>\n",
              "      <td>2</td>\n",
              "      <td>2</td>\n",
              "      <td>2</td>\n",
              "      <td>2</td>\n",
              "      <td>2</td>\n",
              "      <td>2</td>\n",
              "      <td>1</td>\n",
              "      <td>1</td>\n",
              "    </tr>\n",
              "    <tr>\n",
              "      <th>3</th>\n",
              "      <td>1</td>\n",
              "      <td>2</td>\n",
              "      <td>53</td>\n",
              "      <td>2</td>\n",
              "      <td>2</td>\n",
              "      <td>2</td>\n",
              "      <td>2</td>\n",
              "      <td>2</td>\n",
              "      <td>2</td>\n",
              "      <td>2</td>\n",
              "      <td>2</td>\n",
              "      <td>2</td>\n",
              "      <td>2</td>\n",
              "      <td>1</td>\n",
              "    </tr>\n",
              "    <tr>\n",
              "      <th>4</th>\n",
              "      <td>2</td>\n",
              "      <td>2</td>\n",
              "      <td>68</td>\n",
              "      <td>1</td>\n",
              "      <td>2</td>\n",
              "      <td>2</td>\n",
              "      <td>1</td>\n",
              "      <td>2</td>\n",
              "      <td>2</td>\n",
              "      <td>2</td>\n",
              "      <td>2</td>\n",
              "      <td>2</td>\n",
              "      <td>1</td>\n",
              "      <td>1</td>\n",
              "    </tr>\n",
              "  </tbody>\n",
              "</table>\n",
              "</div>\n",
              "      <button class=\"colab-df-convert\" onclick=\"convertToInteractive('df-a50605f5-1fa7-436d-98c3-507621f6732c')\"\n",
              "              title=\"Convert this dataframe to an interactive table.\"\n",
              "              style=\"display:none;\">\n",
              "        \n",
              "  <svg xmlns=\"http://www.w3.org/2000/svg\" height=\"24px\"viewBox=\"0 0 24 24\"\n",
              "       width=\"24px\">\n",
              "    <path d=\"M0 0h24v24H0V0z\" fill=\"none\"/>\n",
              "    <path d=\"M18.56 5.44l.94 2.06.94-2.06 2.06-.94-2.06-.94-.94-2.06-.94 2.06-2.06.94zm-11 1L8.5 8.5l.94-2.06 2.06-.94-2.06-.94L8.5 2.5l-.94 2.06-2.06.94zm10 10l.94 2.06.94-2.06 2.06-.94-2.06-.94-.94-2.06-.94 2.06-2.06.94z\"/><path d=\"M17.41 7.96l-1.37-1.37c-.4-.4-.92-.59-1.43-.59-.52 0-1.04.2-1.43.59L10.3 9.45l-7.72 7.72c-.78.78-.78 2.05 0 2.83L4 21.41c.39.39.9.59 1.41.59.51 0 1.02-.2 1.41-.59l7.78-7.78 2.81-2.81c.8-.78.8-2.07 0-2.86zM5.41 20L4 18.59l7.72-7.72 1.47 1.35L5.41 20z\"/>\n",
              "  </svg>\n",
              "      </button>\n",
              "      \n",
              "  <style>\n",
              "    .colab-df-container {\n",
              "      display:flex;\n",
              "      flex-wrap:wrap;\n",
              "      gap: 12px;\n",
              "    }\n",
              "\n",
              "    .colab-df-convert {\n",
              "      background-color: #E8F0FE;\n",
              "      border: none;\n",
              "      border-radius: 50%;\n",
              "      cursor: pointer;\n",
              "      display: none;\n",
              "      fill: #1967D2;\n",
              "      height: 32px;\n",
              "      padding: 0 0 0 0;\n",
              "      width: 32px;\n",
              "    }\n",
              "\n",
              "    .colab-df-convert:hover {\n",
              "      background-color: #E2EBFA;\n",
              "      box-shadow: 0px 1px 2px rgba(60, 64, 67, 0.3), 0px 1px 3px 1px rgba(60, 64, 67, 0.15);\n",
              "      fill: #174EA6;\n",
              "    }\n",
              "\n",
              "    [theme=dark] .colab-df-convert {\n",
              "      background-color: #3B4455;\n",
              "      fill: #D2E3FC;\n",
              "    }\n",
              "\n",
              "    [theme=dark] .colab-df-convert:hover {\n",
              "      background-color: #434B5C;\n",
              "      box-shadow: 0px 1px 3px 1px rgba(0, 0, 0, 0.15);\n",
              "      filter: drop-shadow(0px 1px 2px rgba(0, 0, 0, 0.3));\n",
              "      fill: #FFFFFF;\n",
              "    }\n",
              "  </style>\n",
              "\n",
              "      <script>\n",
              "        const buttonEl =\n",
              "          document.querySelector('#df-a50605f5-1fa7-436d-98c3-507621f6732c button.colab-df-convert');\n",
              "        buttonEl.style.display =\n",
              "          google.colab.kernel.accessAllowed ? 'block' : 'none';\n",
              "\n",
              "        async function convertToInteractive(key) {\n",
              "          const element = document.querySelector('#df-a50605f5-1fa7-436d-98c3-507621f6732c');\n",
              "          const dataTable =\n",
              "            await google.colab.kernel.invokeFunction('convertToInteractive',\n",
              "                                                     [key], {});\n",
              "          if (!dataTable) return;\n",
              "\n",
              "          const docLinkHtml = 'Like what you see? Visit the ' +\n",
              "            '<a target=\"_blank\" href=https://colab.research.google.com/notebooks/data_table.ipynb>data table notebook</a>'\n",
              "            + ' to learn more about interactive tables.';\n",
              "          element.innerHTML = '';\n",
              "          dataTable['output_type'] = 'display_data';\n",
              "          await google.colab.output.renderOutput(dataTable, element);\n",
              "          const docLink = document.createElement('div');\n",
              "          docLink.innerHTML = docLinkHtml;\n",
              "          element.appendChild(docLink);\n",
              "        }\n",
              "      </script>\n",
              "    </div>\n",
              "  </div>\n",
              "  "
            ]
          },
          "metadata": {},
          "execution_count": 60
        }
      ]
    },
    {
      "cell_type": "markdown",
      "source": [
        "# Treino e teste\n"
      ],
      "metadata": {
        "id": "zPJ-BM1gUe64"
      }
    },
    {
      "cell_type": "code",
      "source": [
        "X = df.drop(\"DEATH\", axis=1)\n",
        "y = df[\"DEATH\"]"
      ],
      "metadata": {
        "id": "XVOuGGJrUdgK"
      },
      "execution_count": 61,
      "outputs": []
    },
    {
      "cell_type": "code",
      "source": [
        "from sklearn.model_selection import train_test_split\n",
        "from sklearn.metrics import confusion_matrix\n",
        "from sklearn.metrics import classification_report\n",
        "X_train, X_test, y_train, y_test = train_test_split(X, y, test_size = 0.20, random_state = 42)"
      ],
      "metadata": {
        "id": "XCjdVSsUVV_D"
      },
      "execution_count": 62,
      "outputs": []
    },
    {
      "cell_type": "markdown",
      "source": [
        "# Classificação\n"
      ],
      "metadata": {
        "id": "ck45DioZVYCz"
      }
    },
    {
      "cell_type": "markdown",
      "source": [
        "## TreeClassifier"
      ],
      "metadata": {
        "id": "vYRVRYoZZRW4"
      }
    },
    {
      "cell_type": "code",
      "source": [
        "from sklearn.tree import DecisionTreeClassifier\n",
        "modelo_tree = DecisionTreeClassifier(random_state=42)\n",
        "modelo_tree.fit(X_train,y_train)\n",
        "y_pred = modelo_tree.predict(X_test)\n",
        "cm = confusion_matrix(y_test,y_pred)\n",
        "print(\"Relatório de Classificação:\\n\", classification_report(y_test, y_pred, digits=4))"
      ],
      "metadata": {
        "colab": {
          "base_uri": "https://localhost:8080/"
        },
        "id": "uLyUDxaOWGcA",
        "outputId": "189cde8c-30be-4b7e-875e-255d632deb79"
      },
      "execution_count": 63,
      "outputs": [
        {
          "output_type": "stream",
          "name": "stdout",
          "text": [
            "Relatório de Classificação:\n",
            "               precision    recall  f1-score   support\n",
            "\n",
            "           1     0.5295    0.3756    0.4394     15240\n",
            "           2     0.9522    0.9738    0.9629    194475\n",
            "\n",
            "    accuracy                         0.9304    209715\n",
            "   macro avg     0.7408    0.6747    0.7012    209715\n",
            "weighted avg     0.9214    0.9304    0.9248    209715\n",
            "\n"
          ]
        }
      ]
    },
    {
      "cell_type": "code",
      "source": [
        "import pickle\n",
        "with open('modelo.pkl', 'wb') as file:\n",
        "    pickle.dump(modelo_tree, file)"
      ],
      "metadata": {
        "id": "ASwZlK9J-SYV"
      },
      "execution_count": 64,
      "outputs": []
    },
    {
      "cell_type": "code",
      "source": [
        "from google.colab import files\n",
        "files.download('modelo.pkl')"
      ],
      "metadata": {
        "colab": {
          "base_uri": "https://localhost:8080/",
          "height": 17
        },
        "id": "fcl0W-hPF7Cl",
        "outputId": "032e4247-468a-4545-b04b-966b91c54eee"
      },
      "execution_count": 65,
      "outputs": [
        {
          "output_type": "display_data",
          "data": {
            "text/plain": [
              "<IPython.core.display.Javascript object>"
            ],
            "application/javascript": [
              "\n",
              "    async function download(id, filename, size) {\n",
              "      if (!google.colab.kernel.accessAllowed) {\n",
              "        return;\n",
              "      }\n",
              "      const div = document.createElement('div');\n",
              "      const label = document.createElement('label');\n",
              "      label.textContent = `Downloading \"${filename}\": `;\n",
              "      div.appendChild(label);\n",
              "      const progress = document.createElement('progress');\n",
              "      progress.max = size;\n",
              "      div.appendChild(progress);\n",
              "      document.body.appendChild(div);\n",
              "\n",
              "      const buffers = [];\n",
              "      let downloaded = 0;\n",
              "\n",
              "      const channel = await google.colab.kernel.comms.open(id);\n",
              "      // Send a message to notify the kernel that we're ready.\n",
              "      channel.send({})\n",
              "\n",
              "      for await (const message of channel.messages) {\n",
              "        // Send a message to notify the kernel that we're ready.\n",
              "        channel.send({})\n",
              "        if (message.buffers) {\n",
              "          for (const buffer of message.buffers) {\n",
              "            buffers.push(buffer);\n",
              "            downloaded += buffer.byteLength;\n",
              "            progress.value = downloaded;\n",
              "          }\n",
              "        }\n",
              "      }\n",
              "      const blob = new Blob(buffers, {type: 'application/binary'});\n",
              "      const a = document.createElement('a');\n",
              "      a.href = window.URL.createObjectURL(blob);\n",
              "      a.download = filename;\n",
              "      div.appendChild(a);\n",
              "      a.click();\n",
              "      div.remove();\n",
              "    }\n",
              "  "
            ]
          },
          "metadata": {}
        },
        {
          "output_type": "display_data",
          "data": {
            "text/plain": [
              "<IPython.core.display.Javascript object>"
            ],
            "application/javascript": [
              "download(\"download_89e7043a-33f6-4b34-a049-a8e1f357af3c\", \"modelo.pkl\", 3611911)"
            ]
          },
          "metadata": {}
        }
      ]
    },
    {
      "cell_type": "code",
      "source": [
        "df.info()"
      ],
      "metadata": {
        "colab": {
          "base_uri": "https://localhost:8080/"
        },
        "id": "Q0c0jPtvNTjr",
        "outputId": "3fbfbf63-2a81-45cb-aa7f-4095d9b2c88d"
      },
      "execution_count": 67,
      "outputs": [
        {
          "output_type": "stream",
          "name": "stdout",
          "text": [
            "<class 'pandas.core.frame.DataFrame'>\n",
            "Int64Index: 1048575 entries, 0 to 1048574\n",
            "Data columns (total 14 columns):\n",
            " #   Column                Non-Null Count    Dtype\n",
            "---  ------                --------------    -----\n",
            " 0   SEX                   1048575 non-null  int64\n",
            " 1   PNEUMONIA             1048575 non-null  int64\n",
            " 2   AGE                   1048575 non-null  int64\n",
            " 3   DIABETES              1048575 non-null  int64\n",
            " 4   COPD                  1048575 non-null  int64\n",
            " 5   ASTHMA                1048575 non-null  int64\n",
            " 6   HIPERTENSION          1048575 non-null  int64\n",
            " 7   OTHER_DISEASE         1048575 non-null  int64\n",
            " 8   CARDIOVASCULAR        1048575 non-null  int64\n",
            " 9   OBESITY               1048575 non-null  int64\n",
            " 10  RENAL_CHRONIC         1048575 non-null  int64\n",
            " 11  TOBACCO               1048575 non-null  int64\n",
            " 12  CLASIFFICATION_FINAL  1048575 non-null  int64\n",
            " 13  DEATH                 1048575 non-null  int64\n",
            "dtypes: int64(14)\n",
            "memory usage: 120.0 MB\n"
          ]
        }
      ]
    }
  ]
}